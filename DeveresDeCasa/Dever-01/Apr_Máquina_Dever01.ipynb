{
  "nbformat": 4,
  "nbformat_minor": 0,
  "metadata": {
    "colab": {
      "provenance": []
    },
    "kernelspec": {
      "name": "python3",
      "display_name": "Python 3"
    },
    "language_info": {
      "name": "python"
    }
  },
  "cells": [
    {
      "cell_type": "code",
      "execution_count": null,
      "metadata": {
        "id": "OCf366IpX6Il"
      },
      "outputs": [],
      "source": [
        "# Importar os módulos do sistema operacional\n",
        "import os\n",
        "import locale\n",
        "\n",
        "# Instalar pt_BR\n",
        "!/usr/share/locales/install-language-pack pt_BR\n",
        "!dpkg-reconfigure locales pt_BR\n",
        "\n",
        "# Reiniciar o processo Python\n",
        "os.kill(os.getpid(), 9)"
      ]
    },
    {
      "cell_type": "code",
      "source": [
        "# Definições e funções para todos os exemplos\n",
        "# encoding: iso-8859-1\n",
        "\n",
        "from datetime import datetime\n",
        "import random\n",
        "\n",
        "\n",
        "\n",
        "# Ajustando a localização para o Brasil\n",
        "import os\n",
        "import locale\n",
        "locale.setlocale(locale.LC_ALL, 'pt_BR')\n",
        "from datetime import datetime\n",
        "import pytz\n",
        "\n",
        "import pandas as pd\n",
        "\n",
        "# Define o fuso horário para o Brasil (Brasília)\n",
        "con_fuso_horario = pytz.timezone(\"America/Sao_Paulo\")\n",
        "\n",
        "conSeparador= \"\\nXXXXXXXXXXXXX---XXXXXXXXXXXXX\\n\"\n",
        "\n",
        "# Função formatar tempo de execução (dado tempo de inicio e fim, retorna h:m:milisegundos formatado)\n",
        "def formata_tempo_execucao (dttInicio, dttfim):\n",
        "    strTempo = dttfim - dttInicio\n",
        "    str_tempo_execucao_formatado = \"{:02d}:{:02d}.{:06d}\".format(\n",
        "    strTempo.seconds // 60,  # Minutos\n",
        "    strTempo.seconds % 60,  # Segundos\n",
        "    strTempo.microseconds  # Microsegundos\n",
        "    )\n",
        "    return str_tempo_execucao_formatado\n",
        "\n",
        "def formata_data(dttParametro):\n",
        "  return dttParametro.strftime(\"%d/%m/%Y - %H:%M:%S.%f\")\n",
        "\n",
        "def formata_numero(numero):\n",
        "    return locale.format_string(\"%d\", numero, grouping=True)\n",
        "\n",
        "# Cria um array do tamanho intElementosArray, valores inteiros entre intMin e intMax)\n",
        "def montar_array (intElementosArray,intMin, intMax):\n",
        "  x = 0\n",
        "  array = []\n",
        "  while x < intTamArray:\n",
        "    intElementosArray = random.randint(intMin,intMax)\n",
        "    array.append (intElementosArray)\n",
        "    x += 1\n",
        "  return (array)\n",
        "\n",
        "def ler_inteiro (strMensagem):\n",
        "  while True:\n",
        "    try:      # Se nenhuma exceção ocorrer, a cláusula except é ignorada e a execução da instrução try é finalizada\n",
        "      tamanho = int(input(strMensagem))\n",
        "      break  # Se a entrada for válida, sai do loop e finaliza o programa\n",
        "    except ValueError:\n",
        "      print(\"Erro: Por favor, digite um número inteiro valido.\")\n",
        "  return tamanho\n",
        "\n",
        "\n",
        "def carregar_array():\n",
        "    arrMeuArray = []\n",
        "    while True:\n",
        "        entrada = input(\"Digite um número inteiro para o array (-1 para sair): \")\n",
        "        try:\n",
        "            numero = int(entrada)\n",
        "        except ValueError:\n",
        "            print(\"Por favor, digite um número inteiro válido.\")\n",
        "            continue\n",
        "        if numero == -1:\n",
        "            break\n",
        "        arrMeuArray.append(numero)\n",
        "        print (f\"O array atual tem {str(len(arrMeuArray))}. Seu conteúdo é \\n\")\n",
        "        print (arrMeuArray)\n",
        "    return arrMeuArray\n",
        "\n",
        "def marcar_inicio (strMensagem):\n",
        "  dttInicio = datetime.now(con_fuso_horario)\n",
        "  dttInicioFormatado = formata_data(dttInicio)\n",
        "  print(f\"Iniciando {strMensagem} as : \" + str(dttInicioFormatado))\n",
        "  return dttInicio\n",
        "\n",
        "def marcar_fim (strMensagem):\n",
        "  dttFim = datetime.now(con_fuso_horario)\n",
        "  dttFimFormatado = formata_data (dttFim)\n",
        "  print(f\"Finalizando {strMensagem} as : \" + str(dttFimFormatado))\n",
        "  return dttFim\n",
        "\n",
        "def ler_arquivo_csv_para_lista(nome_arquivo):\n",
        "    try:\n",
        "        dados = pd.read_csv(nome_arquivo)\n",
        "        return dados.values.tolist()  # Converte o DataFrame para uma lista de listas\n",
        "    except FileNotFoundError:\n",
        "        print(f\"Erro: Arquivo '{nome_arquivo}' não encontrado.\")\n",
        "        return None\n"
      ],
      "metadata": {
        "id": "4Jfz9wh1X_ne"
      },
      "execution_count": null,
      "outputs": []
    },
    {
      "cell_type": "code",
      "source": [
        "import pandas as pd\n",
        "\n",
        "# Criando os dados (ajustando formato das datas)\n",
        "dados = [\n",
        "    [\"João Matheus\", \"12,05,1995\", \"2018,02,20\", \"14:30\"],\n",
        "    [\"Maria Clara\", \"25,09,1998\", \"2020,02,19\", \"09:15\"],\n",
        "    [\"Pedro Giuseppe\", \"03,07,2000\", \"2021,02,18\", \"16:45\"],\n",
        "    [\"Ana Júlia\", \"14,02,1992\", \"2024,02,17\", \"08:50\"],\n",
        "    [\"Carlos Eduardo\", \"29,11,1985\", \"2025,01,02\", \"22:10\"],\n",
        "]\n",
        "# Criando um DataFrame e salvando como CSV\n",
        "df = pd.DataFrame(dados, columns=[\"Nome\", \"DataNascimento\", \"DataCadastro\", \"HoraCadastro\"])\n",
        "df.to_csv(\"dados.csv\", index=False, sep=\";\")\n",
        "\n",
        "print(\"Arquivo CSV criado com sucesso!\")"
      ],
      "metadata": {
        "colab": {
          "base_uri": "https://localhost:8080/"
        },
        "id": "DklwSaAUX_xS",
        "outputId": "f6572cfb-39b1-41be-cb8b-2b88d25b490e"
      },
      "execution_count": 4,
      "outputs": [
        {
          "output_type": "stream",
          "name": "stdout",
          "text": [
            "Arquivo CSV criado com sucesso!\n"
          ]
        }
      ]
    },
    {
      "cell_type": "code",
      "source": [
        "# Lendo o arquivo CSV\n",
        "df = pd.read_csv(\"dados.csv\", sep=\";\")\n",
        "\n",
        "# Exibindo os dados\n",
        "print(df)"
      ],
      "metadata": {
        "colab": {
          "base_uri": "https://localhost:8080/"
        },
        "id": "gc2l3AUDX_0j",
        "outputId": "3a9dd281-2abb-4ff3-a47a-810e768a8f2b"
      },
      "execution_count": 5,
      "outputs": [
        {
          "output_type": "stream",
          "name": "stdout",
          "text": [
            "             Nome DataNascimento DataCadastro HoraCadastro\n",
            "0    João Matheus     12,05,1995   2018,02,20        14:30\n",
            "1     Maria Clara     25,09,1998   2020,02,19        09:15\n",
            "2  Pedro Giuseppe     03,07,2000   2021,02,18        16:45\n",
            "3       Ana Júlia     14,02,1992   2024,02,17        08:50\n",
            "4  Carlos Eduardo     29,11,1985   2025,01,02        22:10\n"
          ]
        }
      ]
    },
    {
      "cell_type": "code",
      "source": [
        "# Pedir ao usuário um número entre 1 e 5\n",
        "n = int(input(\"Digite um número entre 1 e 5 para visualizar um registro: \"))\n",
        "\n",
        "# Ajustar índice para bater com a numeração do usuário (1 = primeiro registro)\n",
        "if 1 <= n <= len(df):\n",
        "    # Pegando os dados da linha escolhida\n",
        "    linha = df.iloc[n - 1]  # Ajustando para índice correto\n",
        "\n",
        "    # Formatando a saída\n",
        "    resultado = f\"Registro {n}: Nome: {linha['Nome']}; Data de nascimento: {linha['DataNascimento']}; Data de cadastro: {linha['DataCadastro']} às {linha['HoraCadastro']} horas.\"\n",
        "\n",
        "    print(resultado)\n",
        "else:\n",
        "    print(\"Número inválido! Escolha entre 1 e 5.\")"
      ],
      "metadata": {
        "colab": {
          "base_uri": "https://localhost:8080/"
        },
        "id": "wMArmlT6X_5G",
        "outputId": "d6efbaa2-76b4-4a3a-a9cc-59b157d9f70d"
      },
      "execution_count": 6,
      "outputs": [
        {
          "output_type": "stream",
          "name": "stdout",
          "text": [
            "Digite um número entre 1 e 5 para visualizar um registro: 1\n",
            "Registro 1: Nome: João Matheus; Data de nascimento: 12,05,1995; Data de cadastro: 2018,02,20 às 14:30 horas.\n"
          ]
        }
      ]
    }
  ]
}