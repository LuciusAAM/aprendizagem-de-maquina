{
  "cells": [
    {
      "cell_type": "code",
      "execution_count": null,
      "metadata": {
        "colab": {
          "base_uri": "https://localhost:8080/"
        },
        "id": "W_NHNz1sfFdT",
        "outputId": "ca959673-90eb-4ce3-920e-10048a27af08"
      },
      "outputs": [],
      "source": [
        "# prompt: 1. Por meio de código, crie um arquivo **dados.csv**\n",
        "# contendo:\n",
        "# Nome, Idade\n",
        "# Ana,25\n",
        "# Bruno,30\n",
        "# Carla,22\n",
        "# Daniel,28\n",
        "# Eduardo,35\n",
        "# 2. Ler o arquivo **dados.csv** e armazene os dados em uma\n",
        "# lista.\n",
        "# Peça ao usuário para digitar um nome.\n",
        "# Verifique se o nome digitado está na lista, exiba a idade\n",
        "# correspondente e se é a pessoa mais velha ou não da lista.\n",
        "# Caso o nome não esteja na lista, exiba uma mensagem\n",
        "# informando isso.\n",
        "# Exemplo de saída esperada:\n",
        "# Digite um nome: Carla\n",
        "# Carla tem 22 anos, não é a pessoa mais velha da lista.\n",
        "# ou\n",
        "# Digite um nome: João\n",
        "# Nome não encontrado.\n",
        "\n",
        "import csv\n",
        "\n",
        "# 1. Criar o arquivo dados.csv\n",
        "with open('dados.csv', 'w', newline='') as csvfile:\n",
        "    writer = csv.writer(csvfile)\n",
        "    writer.writerow(['Nome', 'Idade'])\n",
        "    writer.writerow(['Ana', '25'])\n",
        "    writer.writerow(['Bruno', '30'])\n",
        "    writer.writerow(['Carla', '22'])\n",
        "    writer.writerow(['Daniel', '28'])\n",
        "    writer.writerow(['Eduardo', '35'])\n",
        "\n",
        "# 2. Ler o arquivo dados.csv e armazenar em uma lista\n",
        "nomes = []\n",
        "idades = []\n",
        "with open('dados.csv', 'r') as csvfile:\n",
        "    reader = csv.DictReader(csvfile)\n",
        "    for row in reader:\n",
        "        nomes.append(row['Nome'])\n",
        "        idades.append(int(row['Idade']))\n",
        "\n",
        "# Peça ao usuário para digitar um nome\n",
        "nome_digitado = input(\"Digite um nome: \")\n",
        "\n",
        "# Verifique se o nome está na lista\n",
        "if nome_digitado in nomes:\n",
        "    indice = nomes.index(nome_digitado)\n",
        "    idade = idades[indice]\n",
        "    maior_idade = max(idades)\n",
        "    if idade == maior_idade:\n",
        "      print(f\"{nome_digitado} tem {idade} anos, é a pessoa mais velha da lista.\")\n",
        "    else:\n",
        "      print(f\"{nome_digitado} tem {idade} anos, não é a pessoa mais velha da lista.\")\n",
        "else:\n",
        "    print(\"Nome não encontrado.\")\n"
      ]
    }
  ],
  "metadata": {
    "colab": {
      "provenance": []
    },
    "kernelspec": {
      "display_name": "Python 3",
      "name": "python3"
    },
    "language_info": {
      "name": "python"
    }
  },
  "nbformat": 4,
  "nbformat_minor": 0
}
