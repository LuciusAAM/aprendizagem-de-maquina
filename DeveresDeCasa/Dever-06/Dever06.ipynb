{
  "cells": [
    {
      "cell_type": "code",
      "execution_count": null,
      "metadata": {
        "colab": {
          "base_uri": "https://localhost:8080/"
        },
        "id": "14KDyrQKP_P_",
        "outputId": "3570d1a3-f609-4bd6-d09b-9380195f987e"
      },
      "outputs": [
        {
          "name": "stdout",
          "output_type": "stream",
          "text": [
            "Informe as características da primeira flor:\n"
          ]
        }
      ],
      "source": [
        "from sklearn.datasets import load_iris\n",
        "from sklearn.neighbors import KNeighborsClassifier\n",
        "\n",
        "# Carregar o dataset Iris\n",
        "iris = load_iris()\n",
        "\n",
        "X = iris.data  # Características\n",
        "y = iris.target  # Espécies (rótulos)\n",
        "nomes_especies = iris.target_names  # Nomes das espécies\n",
        "\n",
        "# Criar e treinar o modelo KNeighborsClassifier\n",
        "modelo = KNeighborsClassifier(n_neighbors=3)\n",
        "modelo.fit(X, y)\n",
        "\n",
        "# Solicitar as medidas ao usuário\n",
        "print(\"Informe as características da primeira flor:\")\n",
        "sepal_length = float(input(\"Digite o comprimento da sépala (cm): \"))\n",
        "sepal_width = float(input(\"Digite a largura da sépala (cm): \"))\n",
        "petal_length = float(input(\"Digite o comprimento da pétala (cm): \"))\n",
        "petal_width = float(input(\"Digite a largura da pétala (cm): \"))\n",
        "\n",
        "print(\"\\nAgora informe as características da segunda flor:\")\n",
        "sepal_length2 = float(input(\"Digite o comprimento da sépala (cm): \"))\n",
        "sepal_width2 = float(input(\"Digite a largura da sépala (cm): \"))\n",
        "petal_length2 = float(input(\"Digite o comprimento da pétala (cm): \"))\n",
        "petal_width2 = float(input(\"Digite a largura da pétala (cm): \"))\n",
        "\n",
        "# Fazer a predição\n",
        "nova_flor = [[sepal_length, sepal_width, petal_length, petal_width],\n",
        "             [sepal_length2, sepal_width2, petal_length2, petal_width2]]\n",
        "predicao = modelo.predict(nova_flor)\n",
        "\n",
        "# Imprimir o resultado\n",
        "print(f\"\\nA primeira flor provavelmente é uma {nomes_especies[predicao[0]]}.\")\n",
        "print(f\"A segunda flor provavelmente é uma {nomes_especies[predicao[1]]}.\")\n"
      ]
    }
  ],
  "metadata": {
    "colab": {
      "provenance": []
    },
    "kernelspec": {
      "display_name": "Python 3",
      "name": "python3"
    },
    "language_info": {
      "codemirror_mode": {
        "name": "ipython",
        "version": 3
      },
      "file_extension": ".py",
      "mimetype": "text/x-python",
      "name": "python",
      "nbconvert_exporter": "python",
      "pygments_lexer": "ipython3",
      "version": "3.11.9"
    }
  },
  "nbformat": 4,
  "nbformat_minor": 0
}
