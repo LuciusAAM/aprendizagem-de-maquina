{
  "nbformat": 4,
  "nbformat_minor": 0,
  "metadata": {
    "colab": {
      "provenance": []
    },
    "kernelspec": {
      "name": "python3",
      "display_name": "Python 3"
    },
    "language_info": {
      "name": "python"
    }
  },
  "cells": [
    {
      "cell_type": "code",
      "source": [
        "# Importar os módulos do sistema operacional\n",
        "import os\n",
        "import locale\n",
        "\n",
        "# Instalar pt_BR\n",
        "!/usr/share/locales/install-language-pack pt_BR\n",
        "!dpkg-reconfigure locales pt_BR\n",
        "\n",
        "# Reiniciar o processo Python\n",
        "os.kill(os.getpid(), 9)"
      ],
      "metadata": {
        "id": "0HtCteiWJEBl"
      },
      "execution_count": null,
      "outputs": []
    },
    {
      "cell_type": "code",
      "source": [
        "# Definições e funções para todos os exemplos\n",
        "# encoding: iso-8859-1\n",
        "\n",
        "from datetime import datetime\n",
        "import random\n",
        "\n",
        "\n",
        "\n",
        "# Ajustando a localização para o Brasil\n",
        "import os\n",
        "import locale\n",
        "locale.setlocale(locale.LC_ALL, 'pt_BR')\n",
        "from datetime import datetime\n",
        "import pytz\n",
        "\n",
        "import pandas as pd\n",
        "\n",
        "# Define o fuso horário para o Brasil (Brasília)\n",
        "con_fuso_horario = pytz.timezone(\"America/Sao_Paulo\")\n",
        "\n",
        "conSeparador= \"\\nXXXXXXXXXXXXX---XXXXXXXXXXXXX\\n\"\n",
        "\n",
        "# Função formatar tempo de execução (dado tempo de inicio e fim, retorna h:m:milisegundos formatado)\n",
        "def formata_tempo_execucao (dttInicio, dttfim):\n",
        "    strTempo = dttfim - dttInicio\n",
        "    str_tempo_execucao_formatado = \"{:02d}:{:02d}.{:06d}\".format(\n",
        "    strTempo.seconds // 60,  # Minutos\n",
        "    strTempo.seconds % 60,  # Segundos\n",
        "    strTempo.microseconds  # Microsegundos\n",
        "    )\n",
        "    return str_tempo_execucao_formatado\n",
        "\n",
        "def formata_data(dttParametro):\n",
        "  return dttParametro.strftime(\"%d/%m/%Y - %H:%M:%S.%f\")\n",
        "\n",
        "def formata_numero(numero):\n",
        "    return locale.format_string(\"%d\", numero, grouping=True)\n",
        "\n",
        "# Cria um array do tamanho intElementosArray, valores inteiros entre intMin e intMax)\n",
        "def montar_array (intElementosArray,intMin, intMax):\n",
        "  x = 0\n",
        "  array = []\n",
        "  while x < intTamArray:\n",
        "    intElementosArray = random.randint(intMin,intMax)\n",
        "    array.append (intElementosArray)\n",
        "    x += 1\n",
        "  return (array)\n",
        "\n",
        "def ler_inteiro (strMensagem):\n",
        "  while True:\n",
        "    try:      # Se nenhuma exceção ocorrer, a cláusula except é ignorada e a execução da instrução try é finalizada\n",
        "      tamanho = int(input(strMensagem))\n",
        "      break  # Se a entrada for válida, sai do loop e finaliza o programa\n",
        "    except ValueError:\n",
        "      print(\"Erro: Por favor, digite um número inteiro valido.\")\n",
        "  return tamanho\n",
        "\n",
        "\n",
        "def carregar_array():\n",
        "    arrMeuArray = []\n",
        "    while True:\n",
        "        entrada = input(\"Digite um número inteiro para o array (-1 para sair): \")\n",
        "        try:\n",
        "            numero = int(entrada)\n",
        "        except ValueError:\n",
        "            print(\"Por favor, digite um número inteiro válido.\")\n",
        "            continue\n",
        "        if numero == -1:\n",
        "            break\n",
        "        arrMeuArray.append(numero)\n",
        "        print (f\"O array atual tem {str(len(arrMeuArray))}. Seu conteúdo é \\n\")\n",
        "        print (arrMeuArray)\n",
        "    return arrMeuArray\n",
        "\n",
        "def marcar_inicio (strMensagem):\n",
        "  dttInicio = datetime.now(con_fuso_horario)\n",
        "  dttInicioFormatado = formata_data(dttInicio)\n",
        "  print(f\"Iniciando {strMensagem} as : \" + str(dttInicioFormatado))\n",
        "  return dttInicio\n",
        "\n",
        "def marcar_fim (strMensagem):\n",
        "  dttFim = datetime.now(con_fuso_horario)\n",
        "  dttFimFormatado = formata_data (dttFim)\n",
        "  print(f\"Finalizando {strMensagem} as : \" + str(dttFimFormatado))\n",
        "  return dttFim\n",
        "\n",
        "def ler_arquivo_csv_para_lista(nome_arquivo):\n",
        "    try:\n",
        "        dados = pd.read_csv(nome_arquivo)\n",
        "        return dados.values.tolist()  # Converte o DataFrame para uma lista de listas\n",
        "    except FileNotFoundError:\n",
        "        print(f\"Erro: Arquivo '{nome_arquivo}' não encontrado.\")\n",
        "        return None"
      ],
      "metadata": {
        "id": "ICD3YrnmJEmh"
      },
      "execution_count": null,
      "outputs": []
    },
    {
      "cell_type": "code",
      "execution_count": 19,
      "metadata": {
        "colab": {
          "base_uri": "https://localhost:8080/"
        },
        "id": "lWtt8BVEIJdD",
        "outputId": "cb709109-5842-4386-d007-da02ee8e4810"
      },
      "outputs": [
        {
          "output_type": "stream",
          "name": "stdout",
          "text": [
            "Obeso? True\n"
          ]
        }
      ],
      "source": [
        "import pandas as pd\n",
        "import numpy as np\n",
        "from sklearn.model_selection import train_test_split\n",
        "from sklearn.linear_model import LogisticRegression\n",
        "\n",
        "# Criando os dados\n",
        "imc_data = {\n",
        "    \"IMC\": [18.5, 20.0, 22.0, 24.0, 26.5, 28.0, 30.5, 32.0, 34.0, 36.5],\n",
        "    \"Obeso\": [False, False, False, False, True, True, True, True, True, True]\n",
        "}\n",
        "\n",
        "# Criando e salvando CSV\n",
        "df = pd.DataFrame(imc_data)\n",
        "df.to_csv(\"imc_data.csv\", index=False)\n",
        "\n",
        "# Carregando os dados\n",
        "df = pd.read_csv(\"imc_data.csv\")\n",
        "X = df[[\"IMC\"]]\n",
        "y = df[\"Obeso\"].astype(int)\n",
        "\n",
        "# Treinando o modelo\n",
        "X_train, X_test, y_train, y_test = train_test_split(X, y, test_size=0.2, random_state=42)\n",
        "model = LogisticRegression()\n",
        "model.fit(X_train, y_train)\n",
        "\n",
        "# Testando com um IMC fora do range\n",
        "imc_novo = pd.DataFrame([[40]], columns=[\"IMC\"])\n",
        "previsao = model.predict(imc_novo)\n",
        "print(\"Obeso?\", bool(previsao[0]))"
      ]
    }
  ]
}